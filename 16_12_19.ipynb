{
  "nbformat": 4,
  "nbformat_minor": 0,
  "metadata": {
    "colab": {
      "name": "16-12 -19",
      "provenance": [],
      "collapsed_sections": []
    },
    "kernelspec": {
      "name": "python3",
      "display_name": "Python 3"
    }
  },
  "cells": [
    {
      "cell_type": "code",
      "metadata": {
        "id": "vHupxaaB1LCM",
        "colab_type": "code",
        "colab": {}
      },
      "source": [
        ""
      ],
      "execution_count": 0,
      "outputs": []
    },
    {
      "cell_type": "markdown",
      "metadata": {
        "id": "AouyIH7r1P-P",
        "colab_type": "text"
      },
      "source": [
        "# Functional Programming\n",
        "- simple\n",
        "- Easy to understand\n",
        "- Better Reusability\n",
        "- Lengthy program will be divided into subgroups\n",
        "\n"
      ]
    },
    {
      "cell_type": "markdown",
      "metadata": {
        "id": "Tbq67RED2MHo",
        "colab_type": "text"
      },
      "source": [
        "# Syntax\n",
        "    def name of the function(<parameters>):\n",
        "    ststements\n",
        "    return"
      ]
    },
    {
      "cell_type": "code",
      "metadata": {
        "id": "aqPQK8pJ2dWl",
        "colab_type": "code",
        "outputId": "c3d8a682-e6d4-4338-e65b-c815c18f48ed",
        "colab": {
          "base_uri": "https://localhost:8080/",
          "height": 34
        }
      },
      "source": [
        "def evendigit(n):\n",
        "  s=0\n",
        "  while n!=0:\n",
        "    r=n%10\n",
        "    if r%2 ==0:\n",
        "      s=s+r\n",
        "    n = n//10\n",
        "  return s\n",
        "evendigit(1234)"
      ],
      "execution_count": 0,
      "outputs": [
        {
          "output_type": "execute_result",
          "data": {
            "text/plain": [
              "6"
            ]
          },
          "metadata": {
            "tags": []
          },
          "execution_count": 11
        }
      ]
    },
    {
      "cell_type": "code",
      "metadata": {
        "id": "2C4J1E2l3cuy",
        "colab_type": "code",
        "outputId": "24a3d8ce-dacc-4214-d7cf-e853fe85694b",
        "colab": {
          "base_uri": "https://localhost:8080/",
          "height": 34
        }
      },
      "source": [
        "def largest(n):\n",
        "  temp=0\n",
        "  while n!=0:\n",
        "    r=n%10\n",
        "    if r>temp:\n",
        "      temp=r\n",
        "    n = n//10\n",
        "  return temp\n",
        "largest(19528)"
      ],
      "execution_count": 0,
      "outputs": [
        {
          "output_type": "execute_result",
          "data": {
            "text/plain": [
              "9"
            ]
          },
          "metadata": {
            "tags": []
          },
          "execution_count": 16
        }
      ]
    },
    {
      "cell_type": "code",
      "metadata": {
        "id": "OiVNNwXu5J1j",
        "colab_type": "code",
        "outputId": "37c2968b-d838-4b52-b7bf-bcb7b9708afa",
        "colab": {
          "base_uri": "https://localhost:8080/",
          "height": 34
        }
      },
      "source": [
        "def reverse(n):\n",
        "  s=0\n",
        "  while n!=0:\n",
        "     r = n%10\n",
        "     s=s*10+r\n",
        "     n=n//10\n",
        "  return s\n",
        "reverse(19528)   "
      ],
      "execution_count": 0,
      "outputs": [
        {
          "output_type": "execute_result",
          "data": {
            "text/plain": [
              "82591"
            ]
          },
          "metadata": {
            "tags": []
          },
          "execution_count": 26
        }
      ]
    },
    {
      "cell_type": "markdown",
      "metadata": {
        "id": "cEOjkW_k_z7J",
        "colab_type": "text"
      },
      "source": [
        "# for loop\n",
        "# syntax\n",
        "- for in range(start,stop,stop):\n",
        "> statements"
      ]
    },
    {
      "cell_type": "code",
      "metadata": {
        "id": "trGDgP8AAv-I",
        "colab_type": "code",
        "outputId": "d4ee955b-e588-4fa0-9b18-ace52817e3b4",
        "colab": {
          "base_uri": "https://localhost:8080/",
          "height": 34
        }
      },
      "source": [
        "def printseries(Ib,ul):\n",
        "  for i in range(Ib,ul+1):\n",
        "    print(i,end='')\n",
        "  return\n",
        "printseries(11,25)    "
      ],
      "execution_count": 0,
      "outputs": [
        {
          "output_type": "stream",
          "text": [
            "111213141516171819202122232425"
          ],
          "name": "stdout"
        }
      ]
    },
    {
      "cell_type": "code",
      "metadata": {
        "id": "iilZrf-9CAfm",
        "colab_type": "code",
        "colab": {}
      },
      "source": [
        ""
      ],
      "execution_count": 0,
      "outputs": []
    }
  ]
}