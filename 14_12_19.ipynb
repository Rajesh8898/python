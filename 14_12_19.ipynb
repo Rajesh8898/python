{
  "nbformat": 4,
  "nbformat_minor": 0,
  "metadata": {
    "colab": {
      "name": "14-12-19",
      "provenance": [],
      "collapsed_sections": []
    },
    "kernelspec": {
      "name": "python3",
      "display_name": "Python 3"
    }
  },
  "cells": [
    {
      "cell_type": "code",
      "metadata": {
        "id": "_X11VUdl_d_V",
        "colab_type": "code",
        "colab": {}
      },
      "source": [
        ""
      ],
      "execution_count": 0,
      "outputs": []
    },
    {
      "cell_type": "markdown",
      "metadata": {
        "id": "4pZRehMm_knV",
        "colab_type": "text"
      },
      "source": [
        "# check given number is positive Negitive or zero"
      ]
    },
    {
      "cell_type": "markdown",
      "metadata": {
        "id": "IyqtcPPK_jcl",
        "colab_type": "text"
      },
      "source": [
        ""
      ]
    },
    {
      "cell_type": "code",
      "metadata": {
        "id": "2JXorhYEAfy1",
        "colab_type": "code",
        "outputId": "ab0e5275-1fab-4d64-e5bf-4b426c64cb37",
        "colab": {
          "base_uri": "https://localhost:8080/",
          "height": 51
        }
      },
      "source": [
        "n=int(input(\"enter a number\"))\n",
        "if n==0:\n",
        "  print(\"zero\")\n",
        "elif n>0:\n",
        "    print(\"positive number\")\n",
        "elif n<0:\n",
        "      print(\"negitive number\")"
      ],
      "execution_count": 0,
      "outputs": [
        {
          "output_type": "stream",
          "text": [
            "enter a number24\n",
            "positive number\n"
          ],
          "name": "stdout"
        }
      ]
    },
    {
      "cell_type": "markdown",
      "metadata": {
        "id": "eg_y4uTGBc6n",
        "colab_type": "text"
      },
      "source": [
        "# check input year is leap year are not"
      ]
    },
    {
      "cell_type": "code",
      "metadata": {
        "id": "U6Ch0fj8BmGY",
        "colab_type": "code",
        "outputId": "7ac91759-d274-493d-a42e-119b16c78310",
        "colab": {
          "base_uri": "https://localhost:8080/",
          "height": 51
        }
      },
      "source": [
        "n=int(input(\"enter a number\"))\n",
        "if n % 4 == 0 and (n%100!=0 or n%400==0):\n",
        "  print(\"yes\")\n",
        "else:\n",
        "  print(\"no\")  "
      ],
      "execution_count": 0,
      "outputs": [
        {
          "output_type": "stream",
          "text": [
            "enter a number2016\n",
            "yes\n"
          ],
          "name": "stdout"
        }
      ]
    },
    {
      "cell_type": "markdown",
      "metadata": {
        "id": "jO9HnjP1D10l",
        "colab_type": "text"
      },
      "source": [
        ""
      ]
    },
    {
      "cell_type": "markdown",
      "metadata": {
        "id": "b_y5D-ZKD3P9",
        "colab_type": "text"
      },
      "source": [
        "# find the largest number from the 3 given numbers"
      ]
    },
    {
      "cell_type": "code",
      "metadata": {
        "id": "oGGMVIIPEEeG",
        "colab_type": "code",
        "outputId": "8dfd056a-14b8-4a68-8393-9a1e3595fdbe",
        "colab": {
          "base_uri": "https://localhost:8080/",
          "height": 85
        }
      },
      "source": [
        "a=int(input(\"enter first number\"))\n",
        "b=int(input(\"enter second number\"))\n",
        "c=int(input(\"enter third number\"))\n",
        "if a>b and a>c:\n",
        "  print(\"a is largest\")\n",
        "elif b>a and b>c:\n",
        "  print(\"b is largest\")\n",
        "elif  c>a and c>b:\n",
        "   print(\"c is largest\") "
      ],
      "execution_count": 0,
      "outputs": [
        {
          "output_type": "stream",
          "text": [
            "enter first number20\n",
            "enter second number21\n",
            "enter third number23\n",
            "c is largest\n"
          ],
          "name": "stdout"
        }
      ]
    },
    {
      "cell_type": "markdown",
      "metadata": {
        "id": "JzCOJWMNFpU-",
        "colab_type": "text"
      },
      "source": [
        "# while loop\n",
        "syntax:\n",
        "##### while Boolean condition:<br>\n",
        "               statements <br>\n",
        "               Increment/Decrement"
      ]
    },
    {
      "cell_type": "code",
      "metadata": {
        "id": "fqYI-8sjHEEt",
        "colab_type": "code",
        "outputId": "f4924876-de1d-442e-ba4b-f38874bd013f",
        "colab": {
          "base_uri": "https://localhost:8080/",
          "height": 102
        }
      },
      "source": [
        "x=0\n",
        "while x<5:\n",
        "    print(\"gitam\")\n",
        "    x=x+1"
      ],
      "execution_count": 0,
      "outputs": [
        {
          "output_type": "stream",
          "text": [
            "gitam\n",
            "gitam\n",
            "gitam\n",
            "gitam\n",
            "gitam\n"
          ],
          "name": "stdout"
        }
      ]
    },
    {
      "cell_type": "markdown",
      "metadata": {
        "id": "aL_K4360Its-",
        "colab_type": "text"
      },
      "source": [
        "#printing number from 1 to 10"
      ]
    },
    {
      "cell_type": "code",
      "metadata": {
        "id": "-gAwU8q7IDkt",
        "colab_type": "code",
        "outputId": "05a0c8ab-82da-418f-d6d0-966dc94f5654",
        "colab": {
          "base_uri": "https://localhost:8080/",
          "height": 187
        }
      },
      "source": [
        "i=1\n",
        "while i<11:\n",
        "    print(i)\n",
        "    i=i+1"
      ],
      "execution_count": 0,
      "outputs": [
        {
          "output_type": "stream",
          "text": [
            "1\n",
            "2\n",
            "3\n",
            "4\n",
            "5\n",
            "6\n",
            "7\n",
            "8\n",
            "9\n",
            "10\n"
          ],
          "name": "stdout"
        }
      ]
    },
    {
      "cell_type": "markdown",
      "metadata": {
        "id": "PvaiST6yJK1I",
        "colab_type": "text"
      },
      "source": [
        ""
      ]
    },
    {
      "cell_type": "code",
      "metadata": {
        "id": "9j1vDEIPJDQ2",
        "colab_type": "code",
        "outputId": "421e762b-4406-40b2-d0a8-be3ecc4dd64b",
        "colab": {
          "base_uri": "https://localhost:8080/",
          "height": 51
        }
      },
      "source": [
        "n=int(input(\"enter the number\"))\n",
        "i=1\n",
        "while i<n+1:\n",
        "    print(i,end=\"\")\n",
        "    i=i+1"
      ],
      "execution_count": 0,
      "outputs": [
        {
          "output_type": "stream",
          "text": [
            "enter the number10\n",
            "12345678910"
          ],
          "name": "stdout"
        }
      ]
    },
    {
      "cell_type": "code",
      "metadata": {
        "id": "G90Cb_SJKsSe",
        "colab_type": "code",
        "outputId": "4fc08b79-1db9-43e0-84a1-32692375a040",
        "colab": {
          "base_uri": "https://localhost:8080/",
          "height": 204
        }
      },
      "source": [
        "n=int(input(\"enter the number\"))\n",
        "i=1\n",
        "while i<n+1:\n",
        "    print(i)\n",
        "    i=i+1"
      ],
      "execution_count": 0,
      "outputs": [
        {
          "output_type": "stream",
          "text": [
            "enter the number10\n",
            "1\n",
            "2\n",
            "3\n",
            "4\n",
            "5\n",
            "6\n",
            "7\n",
            "8\n",
            "9\n",
            "10\n"
          ],
          "name": "stdout"
        }
      ]
    },
    {
      "cell_type": "code",
      "metadata": {
        "id": "0b55ipAKMrv4",
        "colab_type": "code",
        "outputId": "a1065ac0-94ed-4869-aa90-28927d10e69a",
        "colab": {
          "base_uri": "https://localhost:8080/",
          "height": 51
        }
      },
      "source": [
        "n=int(input(\"enter the number\"))\n",
        "sum=0\n",
        "i=1\n",
        "while i<=n:\n",
        "    if i%2 ==0:\n",
        "        sum=sum+i\n",
        "    i=i+1\n",
        "print(sum)    "
      ],
      "execution_count": 21,
      "outputs": [
        {
          "output_type": "stream",
          "text": [
            "enter the number10\n",
            "30\n"
          ],
          "name": "stdout"
        }
      ]
    },
    {
      "cell_type": "code",
      "metadata": {
        "id": "gF7bW0kROopI",
        "colab_type": "code",
        "colab": {}
      },
      "source": [
        ""
      ],
      "execution_count": 0,
      "outputs": []
    }
  ]
}