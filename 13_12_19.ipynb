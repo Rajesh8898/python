{
  "nbformat": 4,
  "nbformat_minor": 0,
  "metadata": {
    "colab": {
      "name": "13-12-19",
      "provenance": [],
      "collapsed_sections": []
    },
    "kernelspec": {
      "name": "python3",
      "display_name": "Python 3"
    }
  },
  "cells": [
    {
      "cell_type": "code",
      "metadata": {
        "id": "B5VEG0jOXPLb",
        "colab_type": "code",
        "colab": {}
      },
      "source": [
        "# python"
      ],
      "execution_count": 0,
      "outputs": []
    },
    {
      "cell_type": "markdown",
      "metadata": {
        "id": "wy0IBeQrYQxQ",
        "colab_type": "text"
      },
      "source": [
        "# PYTHON\n",
        "# INSERT SITE ADDRESS\n",
        "[site](https://colab.research.google.com/drive/1YLbDbcMGrQWh8q113XrPGm7VNaBvd2VG#scrollTo=wy0IBeQrYQxQ)"
      ]
    },
    {
      "cell_type": "code",
      "metadata": {
        "id": "MqZlUykJZhpI",
        "colab_type": "code",
        "colab": {}
      },
      "source": [
        "\n"
      ],
      "execution_count": 0,
      "outputs": []
    },
    {
      "cell_type": "markdown",
      "metadata": {
        "id": "7I4vFP44dHAI",
        "colab_type": "text"
      },
      "source": [
        ""
      ]
    },
    {
      "cell_type": "markdown",
      "metadata": {
        "id": "G7XDb8decU-4",
        "colab_type": "text"
      },
      "source": [
        "# insert image\n",
        "![site](https://img.etimg.com/thumb/width-640,height-480,imgsize-299545,resizemode-1,msid-53410390/apj-abdul-kalams-statue-unveiled-in-rameswaram.jpg)\n"
      ]
    },
    {
      "cell_type": "markdown",
      "metadata": {
        "id": "ZLiqHgfHcRGJ",
        "colab_type": "text"
      },
      "source": [
        "# creating ordered list\n",
        "    1.a\n",
        "    2.b\n",
        "    "
      ]
    },
    {
      "cell_type": "markdown",
      "metadata": {
        "id": "SM7Aiv6ghJ-j",
        "colab_type": "text"
      },
      "source": [
        "# creating unordered list\n",
        " - this is unordered list\n",
        " -it does not have sequential order"
      ]
    },
    {
      "cell_type": "code",
      "metadata": {
        "id": "MZ6GoOA4hjhZ",
        "colab_type": "code",
        "colab": {}
      },
      "source": [
        ""
      ],
      "execution_count": 0,
      "outputs": []
    },
    {
      "cell_type": "markdown",
      "metadata": {
        "id": "UyvwIdFoh0qb",
        "colab_type": "text"
      },
      "source": [
        "# STYLES\n",
        "    *italics* \n",
        "    **bold**\n",
        "    ~~striked~~"
      ]
    },
    {
      "cell_type": "markdown",
      "metadata": {
        "id": "ukq8rX9kjh5L",
        "colab_type": "text"
      },
      "source": [
        ""
      ]
    },
    {
      "cell_type": "code",
      "metadata": {
        "id": "o6MvvTJwjism",
        "colab_type": "code",
        "outputId": "54d6d92a-b114-407c-b0a3-a423237e716e",
        "colab": {
          "base_uri": "https://localhost:8080/",
          "height": 34
        }
      },
      "source": [
        "# to add two numbers by assigning variables\n",
        "a=10\n",
        "b=20\n",
        "a+b"
      ],
      "execution_count": 0,
      "outputs": [
        {
          "output_type": "execute_result",
          "data": {
            "text/plain": [
              "30"
            ]
          },
          "metadata": {
            "tags": []
          },
          "execution_count": 17
        }
      ]
    },
    {
      "cell_type": "markdown",
      "metadata": {
        "id": "XI-RR9Kdj3zh",
        "colab_type": "text"
      },
      "source": [
        "# RULES FOR VARIABLES\n",
        "    - Name should begin with a character\n",
        "    - no special characters allowed except_"
      ]
    },
    {
      "cell_type": "code",
      "metadata": {
        "id": "AWSkYMMgkdTk",
        "colab_type": "code",
        "outputId": "e47d16a5-f9d6-4672-e580-04382c110b35",
        "colab": {
          "base_uri": "https://localhost:8080/",
          "height": 34
        }
      },
      "source": [
        "name =\"aniketh\"\n",
        "cash=\"20000k\"\n",
        "print(\"his name is\",name,\"he got\",cash,\"cash rn\")"
      ],
      "execution_count": 0,
      "outputs": [
        {
          "output_type": "stream",
          "text": [
            "his name is aniketh he got 20000k cash rn\n"
          ],
          "name": "stdout"
        }
      ]
    },
    {
      "cell_type": "code",
      "metadata": {
        "id": "q13iyOUclQyB",
        "colab_type": "code",
        "outputId": "cb5070e5-653e-440a-ca8f-b3350cbbdf64",
        "colab": {
          "base_uri": "https://localhost:8080/",
          "height": 68
        }
      },
      "source": [
        "name =input(\"enter name\")\n",
        "age=int(input(\"enter age\"))\n",
        "print(\"my name is\",name,\"I am\",age,\"year old\")"
      ],
      "execution_count": 0,
      "outputs": [
        {
          "output_type": "stream",
          "text": [
            "enter namerajesh\n",
            "enter age21\n",
            "my name is rajesh I am 21 year old\n"
          ],
          "name": "stdout"
        }
      ]
    },
    {
      "cell_type": "code",
      "metadata": {
        "id": "mWx12qvSl0fs",
        "colab_type": "code",
        "outputId": "6eb5e341-f34d-4ac0-ccf4-605acabff3af",
        "colab": {
          "base_uri": "https://localhost:8080/",
          "height": 136
        }
      },
      "source": [
        "x=int(input(\"enter x\"))\n",
        "y=int(input(\"enter y\"))\n",
        "print(\"sum is\",x+y)\n",
        "print(\"subtraction is\",x-y)\n",
        "print(\"multiplication is\",x*y)\n",
        "print(\"division is\",x/y)\n",
        "print(\"% is\",x%y)"
      ],
      "execution_count": 0,
      "outputs": [
        {
          "output_type": "stream",
          "text": [
            "enter x20\n",
            "enter y10\n",
            "sum is 30\n",
            "subtraction is 10\n",
            "multiplication is 200\n",
            "division is 2.0\n",
            "% is 0\n"
          ],
          "name": "stdout"
        }
      ]
    },
    {
      "cell_type": "code",
      "metadata": {
        "id": "wbXO16X3lChs",
        "colab_type": "code",
        "colab": {}
      },
      "source": [
        "\n"
      ],
      "execution_count": 0,
      "outputs": []
    },
    {
      "cell_type": "markdown",
      "metadata": {
        "id": "0Xofvs7lm1gt",
        "colab_type": "text"
      },
      "source": [
        "# FUNDAMENTAL DATATYPES\n",
        " - int\n",
        " - float\n",
        " - complex\n",
        " - Boolean\n",
        " - string"
      ]
    },
    {
      "cell_type": "markdown",
      "metadata": {
        "id": "bc-l_w_GhoMZ",
        "colab_type": "text"
      },
      "source": [
        ""
      ]
    },
    {
      "cell_type": "code",
      "metadata": {
        "id": "ZeN2hCKund7u",
        "colab_type": "code",
        "outputId": "ade90597-8d1e-4d04-f27e-30b0263c693f",
        "colab": {
          "base_uri": "https://localhost:8080/",
          "height": 68
        }
      },
      "source": [
        "x=10\n",
        "y=12.32\n",
        "z=5+6j\n",
        "print(type(x))\n",
        "print(type(y))\n",
        "print(type(z))"
      ],
      "execution_count": 0,
      "outputs": [
        {
          "output_type": "stream",
          "text": [
            "<class 'int'>\n",
            "<class 'float'>\n",
            "<class 'complex'>\n"
          ],
          "name": "stdout"
        }
      ]
    },
    {
      "cell_type": "code",
      "metadata": {
        "id": "U_MxOiHzoMon",
        "colab_type": "code",
        "outputId": "49c5ed16-83ca-4fef-e4e7-23d6c98443e8",
        "colab": {
          "base_uri": "https://localhost:8080/",
          "height": 34
        }
      },
      "source": [
        "c=complex(2,5)\n",
        "print(c)"
      ],
      "execution_count": 0,
      "outputs": [
        {
          "output_type": "stream",
          "text": [
            "(2+5j)\n"
          ],
          "name": "stdout"
        }
      ]
    },
    {
      "cell_type": "code",
      "metadata": {
        "id": "_vlkfRLZpbL5",
        "colab_type": "code",
        "outputId": "db669449-3e04-46f4-b27e-ff111363f5d1",
        "colab": {
          "base_uri": "https://localhost:8080/",
          "height": 68
        }
      },
      "source": [
        "c1=3+5j\n",
        "c2=6+7j\n",
        "print(c1+c2)\n",
        "print(c1-c2)\n",
        "print(c1*c2)"
      ],
      "execution_count": 0,
      "outputs": [
        {
          "output_type": "stream",
          "text": [
            "(9+12j)\n",
            "(-3-2j)\n",
            "(-17+51j)\n"
          ],
          "name": "stdout"
        }
      ]
    },
    {
      "cell_type": "code",
      "metadata": {
        "id": "QS3y0hV8o85n",
        "colab_type": "code",
        "outputId": "8cdca62c-10fe-4068-ac84-2abb8a9f0b5f",
        "colab": {
          "base_uri": "https://localhost:8080/",
          "height": 34
        }
      },
      "source": [
        "x=6\n",
        "y=9\n",
        "x<y"
      ],
      "execution_count": 0,
      "outputs": [
        {
          "output_type": "execute_result",
          "data": {
            "text/plain": [
              "True"
            ]
          },
          "metadata": {
            "tags": []
          },
          "execution_count": 29
        }
      ]
    },
    {
      "cell_type": "code",
      "metadata": {
        "id": "EvE6aESaqxPx",
        "colab_type": "code",
        "outputId": "18276417-234c-4b5f-ef59-ca4aee8491c7",
        "colab": {
          "base_uri": "https://localhost:8080/",
          "height": 34
        }
      },
      "source": [
        "# boolean\n",
        "x=9\n",
        "y=2\n",
        "x<y"
      ],
      "execution_count": 0,
      "outputs": [
        {
          "output_type": "execute_result",
          "data": {
            "text/plain": [
              "False"
            ]
          },
          "metadata": {
            "tags": []
          },
          "execution_count": 30
        }
      ]
    },
    {
      "cell_type": "code",
      "metadata": {
        "id": "sT9sfSOsrp7L",
        "colab_type": "code",
        "outputId": "4f240144-f284-4faa-9f74-20989a5642ec",
        "colab": {
          "base_uri": "https://localhost:8080/",
          "height": 51
        }
      },
      "source": [
        "#string\n",
        "s1=\"abc\"\n",
        "s2=\"def\"\n",
        "print(type(s1))\n",
        "print(type(s2))"
      ],
      "execution_count": 0,
      "outputs": [
        {
          "output_type": "stream",
          "text": [
            "<class 'str'>\n",
            "<class 'str'>\n"
          ],
          "name": "stdout"
        }
      ]
    },
    {
      "cell_type": "code",
      "metadata": {
        "id": "c7WRDrZ9r_HC",
        "colab_type": "code",
        "outputId": "a0e2442d-aa3f-4069-c33e-9f6f667495e5",
        "colab": {
          "base_uri": "https://localhost:8080/",
          "height": 68
        }
      },
      "source": [
        "i=100\n",
        "print(type(i))\n",
        "s1=str(i)\n",
        "print(type(s1))\n",
        "f1=float(i)\n",
        "print(type(f1))"
      ],
      "execution_count": 0,
      "outputs": [
        {
          "output_type": "stream",
          "text": [
            "<class 'int'>\n",
            "<class 'str'>\n",
            "<class 'float'>\n"
          ],
          "name": "stdout"
        }
      ]
    },
    {
      "cell_type": "code",
      "metadata": {
        "id": "Ia13uJrYtO20",
        "colab_type": "code",
        "outputId": "de5faf86-d882-482b-e43e-faa6b21fd9d9",
        "colab": {
          "base_uri": "https://localhost:8080/",
          "height": 34
        }
      },
      "source": [
        "# length\n",
        "a=1234\n",
        "print(len(str(a)))"
      ],
      "execution_count": 0,
      "outputs": [
        {
          "output_type": "stream",
          "text": [
            "4\n"
          ],
          "name": "stdout"
        }
      ]
    },
    {
      "cell_type": "code",
      "metadata": {
        "id": "ZFqLHzfVt6br",
        "colab_type": "code",
        "outputId": "23d294bc-ddc0-4473-f023-e8d9fb4fd1e7",
        "colab": {
          "base_uri": "https://localhost:8080/",
          "height": 34
        }
      },
      "source": [
        "#length\n",
        "a=1012458945478551265498\n",
        "print(len(str(a)))"
      ],
      "execution_count": 0,
      "outputs": [
        {
          "output_type": "stream",
          "text": [
            "22\n"
          ],
          "name": "stdout"
        }
      ]
    },
    {
      "cell_type": "code",
      "metadata": {
        "id": "I8QHpK_Guh4I",
        "colab_type": "code",
        "colab": {}
      },
      "source": [
        "n1=100 #single variable assignment\n",
        "a=b=c=20 #multiple  variable assigned of values\n",
        "\n",
        "print()"
      ],
      "execution_count": 0,
      "outputs": []
    },
    {
      "cell_type": "code",
      "metadata": {
        "id": "jN4u2iJxxGt1",
        "colab_type": "code",
        "outputId": "dd9d43cd-9d55-4377-acce-54155bf4109b",
        "colab": {
          "base_uri": "https://localhost:8080/",
          "height": 34
        }
      },
      "source": [
        "x=1+2**3/4+5\n",
        "print(x)"
      ],
      "execution_count": 0,
      "outputs": [
        {
          "output_type": "stream",
          "text": [
            "8.0\n"
          ],
          "name": "stdout"
        }
      ]
    },
    {
      "cell_type": "code",
      "metadata": {
        "id": "wDd9_k0PxQR4",
        "colab_type": "code",
        "outputId": "a69925a9-9cc3-4732-e0db-ee2767d7a86e",
        "colab": {
          "base_uri": "https://localhost:8080/",
          "height": 34
        }
      },
      "source": [
        "x=1+2**3/4*5\n",
        "print(x)"
      ],
      "execution_count": 0,
      "outputs": [
        {
          "output_type": "stream",
          "text": [
            "11.0\n"
          ],
          "name": "stdout"
        }
      ]
    },
    {
      "cell_type": "code",
      "metadata": {
        "id": "oduX-7lMxab8",
        "colab_type": "code",
        "colab": {}
      },
      "source": [
        ""
      ],
      "execution_count": 0,
      "outputs": []
    },
    {
      "cell_type": "markdown",
      "metadata": {
        "id": "JLcCaft5yiLF",
        "colab_type": "text"
      },
      "source": [
        "# OPERATORS\n",
        "## Arithematic Opertors\n",
        " - +\n",
        " - -\n",
        " - *\n",
        " - /\n",
        " - %\n",
        " - **\n",
        " - //"
      ]
    },
    {
      "cell_type": "markdown",
      "metadata": {
        "id": "pzUzjPtCygY0",
        "colab_type": "text"
      },
      "source": [
        ""
      ]
    },
    {
      "cell_type": "code",
      "metadata": {
        "id": "0J8igqhXzDFz",
        "colab_type": "code",
        "outputId": "d2630a61-8b2e-48d6-a468-08bf9098ed0b",
        "colab": {
          "base_uri": "https://localhost:8080/",
          "height": 34
        }
      },
      "source": [
        "a=11\n",
        "b=3\n",
        "a//b"
      ],
      "execution_count": 0,
      "outputs": [
        {
          "output_type": "execute_result",
          "data": {
            "text/plain": [
              "3"
            ]
          },
          "metadata": {
            "tags": []
          },
          "execution_count": 44
        }
      ]
    },
    {
      "cell_type": "markdown",
      "metadata": {
        "id": "VLCFZyHVztvc",
        "colab_type": "text"
      },
      "source": [
        ""
      ]
    },
    {
      "cell_type": "code",
      "metadata": {
        "id": "ZKGBX9sg0kHb",
        "colab_type": "code",
        "outputId": "09a20930-f49d-4745-b1bd-ef443e4e0ef5",
        "colab": {
          "base_uri": "https://localhost:8080/",
          "height": 51
        }
      },
      "source": [
        "a=10\n",
        "b=4\n",
        "print(a//b)\n",
        "print(a%b)"
      ],
      "execution_count": 0,
      "outputs": [
        {
          "output_type": "stream",
          "text": [
            "2\n",
            "2\n"
          ],
          "name": "stdout"
        }
      ]
    },
    {
      "cell_type": "markdown",
      "metadata": {
        "id": "NnyNmMH8zwDD",
        "colab_type": "text"
      },
      "source": [
        "# RELATIONAL OPERATORS\n",
        "- ==\n",
        "- !=\n",
        "- <\n",
        "- (>)\n",
        "- <=\n",
        "-( >=)"
      ]
    },
    {
      "cell_type": "code",
      "metadata": {
        "id": "qwn9LC6C1t-A",
        "colab_type": "code",
        "outputId": "cbee929a-5b71-4b95-9e58-e72634ffd452",
        "colab": {
          "base_uri": "https://localhost:8080/",
          "height": 34
        }
      },
      "source": [
        "x=5\n",
        "a=x>10\n",
        "print(a)"
      ],
      "execution_count": 0,
      "outputs": [
        {
          "output_type": "stream",
          "text": [
            "False\n"
          ],
          "name": "stdout"
        }
      ]
    },
    {
      "cell_type": "code",
      "metadata": {
        "id": "Cj0xS9dS2r-u",
        "colab_type": "code",
        "colab": {}
      },
      "source": [
        ""
      ],
      "execution_count": 0,
      "outputs": []
    },
    {
      "cell_type": "markdown",
      "metadata": {
        "id": "AST6SD3A20Mc",
        "colab_type": "text"
      },
      "source": [
        "# LOGICAL OPERATORS\n",
        "- and\n",
        "- or\n",
        "- not"
      ]
    },
    {
      "cell_type": "code",
      "metadata": {
        "id": "f7OGAIWo2-E_",
        "colab_type": "code",
        "outputId": "aab3db7f-5906-44d6-91ff-95cedab9b747",
        "colab": {
          "base_uri": "https://localhost:8080/",
          "height": 34
        }
      },
      "source": [
        "i=100\n",
        "a1=(i>15) and (i<76)\n",
        "print(a1)"
      ],
      "execution_count": 0,
      "outputs": [
        {
          "output_type": "stream",
          "text": [
            "False\n"
          ],
          "name": "stdout"
        }
      ]
    },
    {
      "cell_type": "code",
      "metadata": {
        "id": "8NtLmJYD3Ssq",
        "colab_type": "code",
        "outputId": "af52d0b2-f07f-4841-9fc8-e50968a76726",
        "colab": {
          "base_uri": "https://localhost:8080/",
          "height": 51
        }
      },
      "source": [
        "i=100\n",
        "a1=(i>15) and (i<76)\n",
        "a2=(i>567) or (i<3456)\n",
        "print(a1)\n",
        "print(a2)"
      ],
      "execution_count": 0,
      "outputs": [
        {
          "output_type": "stream",
          "text": [
            "False\n",
            "True\n"
          ],
          "name": "stdout"
        }
      ]
    },
    {
      "cell_type": "code",
      "metadata": {
        "id": "-at6Ss3u4Q2O",
        "colab_type": "code",
        "colab": {}
      },
      "source": [
        ""
      ],
      "execution_count": 0,
      "outputs": []
    },
    {
      "cell_type": "markdown",
      "metadata": {
        "id": "aVRCRM8Z4v3c",
        "colab_type": "text"
      },
      "source": [
        "# MEMBERSHIP OPERATORS\n",
        "- in\n",
        "- notin"
      ]
    },
    {
      "cell_type": "code",
      "metadata": {
        "id": "hyw1d6mV46hD",
        "colab_type": "code",
        "outputId": "ca3cf857-c92e-40cf-d83a-4c8c4688d1bb",
        "colab": {
          "base_uri": "https://localhost:8080/",
          "height": 51
        }
      },
      "source": [
        "str1=\"abc\"\n",
        "print('a' in str1)\n",
        "print('a' not in str1)"
      ],
      "execution_count": 0,
      "outputs": [
        {
          "output_type": "stream",
          "text": [
            "True\n",
            "False\n"
          ],
          "name": "stdout"
        }
      ]
    },
    {
      "cell_type": "code",
      "metadata": {
        "id": "dWdccdIa5LqG",
        "colab_type": "code",
        "colab": {}
      },
      "source": [
        ""
      ],
      "execution_count": 0,
      "outputs": []
    },
    {
      "cell_type": "markdown",
      "metadata": {
        "id": "tx_3MbYZ5ybD",
        "colab_type": "text"
      },
      "source": [
        "# CONTROLFLOW STATEMENTS\n",
        "- conditional statement\n",
        "- looping statement\n",
        "--if-else statement\n",
        "  - syntax\n",
        "            ###if condition:\n",
        "            >statements\n",
        "            ###else: \n",
        "            >statements"
      ]
    },
    {
      "cell_type": "code",
      "metadata": {
        "id": "1TyZgAIz7OXU",
        "colab_type": "code",
        "outputId": "05502bed-a5e6-453d-8fb0-0fd2cbc6605c",
        "colab": {
          "base_uri": "https://localhost:8080/",
          "height": 51
        }
      },
      "source": [
        " #check if a number is even or odd\n",
        "n=int(input(\"enter a number\"))\n",
        "if n%2==0:\n",
        "  print(\"even\")\n",
        "else:\n",
        " print(\"odd\")\n"
      ],
      "execution_count": 0,
      "outputs": [
        {
          "output_type": "stream",
          "text": [
            "enter a number23\n",
            "odd\n"
          ],
          "name": "stdout"
        }
      ]
    },
    {
      "cell_type": "code",
      "metadata": {
        "id": "zVZSmQsA8NlW",
        "colab_type": "code",
        "outputId": "2ebd4458-73e3-483a-81bd-e32133fa877e",
        "colab": {
          "base_uri": "https://localhost:8080/",
          "height": 51
        }
      },
      "source": [
        "#check if a number is even or odd\n",
        "n=int(input(\"enter a number\"))\n",
        "if n%3==0 and n%5==0:\n",
        "  print(\"yes\")\n",
        "else:\n",
        " print(\"no\")\n"
      ],
      "execution_count": 0,
      "outputs": [
        {
          "output_type": "stream",
          "text": [
            "enter a number15\n",
            "yes\n"
          ],
          "name": "stdout"
        }
      ]
    },
    {
      "cell_type": "code",
      "metadata": {
        "id": "--Vsaf6A9lRW",
        "colab_type": "code",
        "colab": {}
      },
      "source": [
        ""
      ],
      "execution_count": 0,
      "outputs": []
    }
  ]
}